{
 "cells": [
  {
   "cell_type": "code",
   "execution_count": 1,
   "metadata": {},
   "outputs": [
    {
     "name": "stdout",
     "output_type": "stream",
     "text": [
      "Player 1 rolled:  3\n",
      "Player 2 rolled:  5\n",
      "player 2 wins\n",
      "Press enter to continue.\n",
      "Player 1 rolled:  1\n",
      "Player 2 rolled:  2\n",
      "player 2 wins\n",
      "Press enter to continue.\n",
      "Player 1 rolled:  2\n",
      "Player 2 rolled:  6\n",
      "player 2 wins\n",
      "Press enter to continue.\n",
      "Player 1 rolled:  3\n",
      "Player 2 rolled:  6\n",
      "player 2 wins\n",
      "Press enter to continue.3\n",
      "Player 1 rolled:  1\n",
      "Player 2 rolled:  6\n",
      "player 2 wins\n",
      "Press enter to continue.\n",
      "Player 1 rolled:  5\n",
      "Player 2 rolled:  5\n",
      "It's a draw\n",
      "Press enter to continue.\n",
      "Player 1 rolled:  2\n",
      "Player 2 rolled:  1\n",
      "player 1 wins.\n",
      "Press enter to continue.\n",
      "Player 1 rolled:  4\n",
      "Player 2 rolled:  4\n",
      "It's a draw\n",
      "Press enter to continue.\n",
      "Player 1 rolled:  1\n",
      "Player 2 rolled:  1\n",
      "It's a draw\n",
      "Press enter to continue.\n",
      "Player 1 rolled:  2\n",
      "Player 2 rolled:  3\n",
      "player 2 wins\n",
      "Press enter to continue.\n",
      "### Game Over ###\n",
      "Player 1 score: 1\n",
      "Player 2 score: 6\n"
     ]
    }
   ],
   "source": [
    "import random\n",
    "player1_score = 0\n",
    "player2_score = 0\n",
    "for i in range(10):\n",
    "    player1_value = random.randint(1, 6)\n",
    "    player2_value = random.randint(1, 6)\n",
    "    print(\"Player 1 rolled: \", player1_value)\n",
    "    print(\"Player 2 rolled: \", player2_value)\n",
    "    if player1_value > player2_value:\n",
    "        print(\"player 1 wins.\")\n",
    "        player1_score = player1_score + 1\n",
    "    elif player2_value > player1_value:\n",
    "        print(\"player 2 wins\")\n",
    "        player2_score = player2_score + 1\n",
    "    else:\n",
    "        print(\"It's a draw\")\n",
    "\n",
    "    input(\"Press enter to continue.\")  \n",
    "\n",
    "print(\"### Game Over ###\")\n",
    "print(\"Player 1 score:\", player1_score)\n",
    "print(\"Player 2 score:\", player2_score)"
   ]
  },
  {
   "cell_type": "code",
   "execution_count": null,
   "metadata": {},
   "outputs": [],
   "source": []
  }
 ],
 "metadata": {
  "kernelspec": {
   "display_name": "Python 3",
   "language": "python",
   "name": "python3"
  },
  "language_info": {
   "codemirror_mode": {
    "name": "ipython",
    "version": 3
   },
   "file_extension": ".py",
   "mimetype": "text/x-python",
   "name": "python",
   "nbconvert_exporter": "python",
   "pygments_lexer": "ipython3",
   "version": "3.8.5"
  }
 },
 "nbformat": 4,
 "nbformat_minor": 4
}
